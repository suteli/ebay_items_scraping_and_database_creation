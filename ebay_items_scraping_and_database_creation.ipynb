{
 "cells": [
  {
   "cell_type": "markdown",
   "metadata": {},
   "source": [
    "# eBay Items Scraping and Databasing - Stella (Sute) Li"
   ]
  },
  {
   "cell_type": "code",
   "execution_count": 1,
   "metadata": {},
   "outputs": [],
   "source": [
    "import requests\n",
    "from bs4 import BeautifulSoup\n",
    "import json\n",
    "import os\n",
    "import re\n",
    "import time\n",
    "import mysql.connector\n",
    "import pandas as pd"
   ]
  },
  {
   "cell_type": "markdown",
   "metadata": {},
   "source": [
    "## Store the link to items in two separate text files for sponsored and non-sponsored items"
   ]
  },
  {
   "cell_type": "code",
   "execution_count": 211,
   "metadata": {},
   "outputs": [],
   "source": [
    "# specifying search key word = playstation 4 slim, buy-it-now items only, items per page = 100\n",
    "url = 'https://www.ebay.com/sch/i.html?_nkw=playstation+4+slim&LH_BIN=1&_ipg=100'"
   ]
  },
  {
   "cell_type": "code",
   "execution_count": 212,
   "metadata": {},
   "outputs": [],
   "source": [
    "# create two files to store all the links\n",
    "file_sponsored = open('sponsored.txt', 'w')\n",
    "file_nonsponsored = open('non-sponsored.txt', 'w')\n",
    "\n",
    "for i in range(1,11):\n",
    "    # parse the webpages and find sponsored items\n",
    "    url2 = url + '&_pgn=' + str(i)\n",
    "    html = requests.get(url2)\n",
    "    soup = BeautifulSoup(html.text, \"html.parser\")\n",
    "\n",
    "    pattern = re.compile(r'.*[S].*[P].*[O].*[N].*[S].*[O].*[R].*[E].*[D].*')\n",
    "    \n",
    "    # find urls of sponsored and not sponsored items and write into the files\n",
    "    for elem in soup.find_all('div', attrs = {'style':'display:flex;'}):\n",
    "        text = elem.getText()\n",
    "        if pattern.search(text):\n",
    "            sponsored_url = elem.parent.get('href')\n",
    "            file_sponsored.write(sponsored_url + '\\n')\n",
    "            \n",
    "        if pattern.search(text) == None:\n",
    "            unsponsored_url = elem.parent.get('href')\n",
    "            file_nonsponsored.write(unsponsored_url + '\\n')\n",
    "        \n",
    "            \n",
    "file_sponsored.close()\n",
    "file_nonsponsored.close()"
   ]
  },
  {
   "cell_type": "markdown",
   "metadata": {},
   "source": [
    "## Save the webpages into two separate folders"
   ]
  },
  {
   "cell_type": "code",
   "execution_count": 213,
   "metadata": {},
   "outputs": [],
   "source": [
    "# create the two folders 'sponsored' and 'non-sponsored'\n",
    "cwd = os.getcwd()\n",
    "path_sponsored = os.path.join(cwd, r'sponsored')\n",
    "path_nonsponsored = os.path.join(cwd, r'non-sponsored')\n",
    "try:\n",
    "    os.mkdir(path_sponsored)\n",
    "    os.mkdir(path_nonsponsored)\n",
    "except:\n",
    "    print('directory already exists')"
   ]
  },
  {
   "cell_type": "code",
   "execution_count": 214,
   "metadata": {},
   "outputs": [],
   "source": [
    "# store html code of webpages\n",
    "def webpage_to_file(url):\n",
    "    request = requests.get(url)\n",
    "    html = request.text\n",
    "    return html"
   ]
  },
  {
   "cell_type": "code",
   "execution_count": 215,
   "metadata": {},
   "outputs": [],
   "source": [
    "# how to find the id of items from the url\n",
    "id_pattern = re.compile('/\\d{12}\\?')\n",
    "\n",
    "# save all the webpages from the links\n",
    "def save_ebay_pages(sponsored = False):\n",
    "    counter = 0\n",
    "    #  opens the two files and downloads each of the pages (URLs) into the folders \"sponsored\" and \"non-sponsored\"\n",
    "    if sponsored == True:\n",
    "        file_name = 'sponsored.txt'\n",
    "\n",
    "    else:\n",
    "        file_name = 'non-sponsored.txt'        \n",
    "        \n",
    "    with open(file_name, 'r') as file:\n",
    "        if sponsored == True:\n",
    "            os.chdir(path_sponsored)\n",
    "        else:\n",
    "            os.chdir(path_nonsponsored)\n",
    "            \n",
    "        for line in file.readlines():\n",
    "            counter +=1\n",
    "            url = line\n",
    "            item_id = re.search(id_pattern, line).group()[1:-1]\n",
    "            \n",
    "            try:\n",
    "                html = webpage_to_file(url)\n",
    "            # error handling    \n",
    "            except:\n",
    "                print('error at link no.', counter, ': \\n', url)\n",
    "                time.sleep(2)\n",
    "                html = webpage_to_file(url)\n",
    "                continue\n",
    "            # name the files with item ID    \n",
    "            ebay_html = open(item_id +'.htm', 'w', encoding='utf8')\n",
    "            ebay_html.write(html)\n",
    "            ebay_html.close()\n",
    "                \n",
    "            time.sleep(2) # 2-second pause between requests       "
   ]
  },
  {
   "cell_type": "code",
   "execution_count": 216,
   "metadata": {},
   "outputs": [],
   "source": [
    "save_ebay_pages(sponsored=True)"
   ]
  },
  {
   "cell_type": "code",
   "execution_count": 217,
   "metadata": {},
   "outputs": [],
   "source": [
    "os.chdir(\"..\")"
   ]
  },
  {
   "cell_type": "code",
   "execution_count": 218,
   "metadata": {},
   "outputs": [],
   "source": [
    "save_ebay_pages(sponsored=False)"
   ]
  },
  {
   "cell_type": "markdown",
   "metadata": {},
   "source": [
    "## Scrape a few pieces of information\n",
    "seller name, seller score, item price, # items sold, best offer available, title, returns allowed, shipping price, condition (e.g., used, new, like new, seller refurbished, ...)."
   ]
  },
  {
   "cell_type": "code",
   "execution_count": 237,
   "metadata": {},
   "outputs": [],
   "source": [
    "# navigate to the path of non-sponsored items\n",
    "def navigate_to_path_nonsponsored():\n",
    "    if os.getcwd() != os.chdir(path_nonsponsored):\n",
    "        os.chdir(path_nonsponsored)"
   ]
  },
  {
   "cell_type": "code",
   "execution_count": 238,
   "metadata": {},
   "outputs": [],
   "source": [
    "# navigate to the path of sponsored items\n",
    "def navigate_to_path_sponsored():\n",
    "    if os.getcwd() != os.chdir(path_sponsored):\n",
    "        os.chdir(path_sponsored)"
   ]
  },
  {
   "cell_type": "code",
   "execution_count": 671,
   "metadata": {},
   "outputs": [],
   "source": [
    "navigate_to_path_sponsored()"
   ]
  },
  {
   "cell_type": "code",
   "execution_count": 673,
   "metadata": {},
   "outputs": [],
   "source": [
    "navigate_to_path_nonsponsored()"
   ]
  },
  {
   "cell_type": "code",
   "execution_count": 684,
   "metadata": {},
   "outputs": [],
   "source": [
    "# store all items in a list of dictionaries\n",
    "# initiate the list\n",
    "ebay_items = []\n",
    "index = 0"
   ]
  },
  {
   "cell_type": "code",
   "execution_count": 491,
   "metadata": {},
   "outputs": [],
   "source": [
    "# to find the price of items\n",
    "price_pattern = re.compile('\\$[\\d\\.,]+')"
   ]
  },
  {
   "cell_type": "code",
   "execution_count": 685,
   "metadata": {},
   "outputs": [],
   "source": [
    "def store_ebay_items(sponsored=False):\n",
    "    global index\n",
    "    \n",
    "    if sponsored == True:\n",
    "        navigate_to_path_sponsored()\n",
    "    else:\n",
    "        navigate_to_path_nonsponsored()\n",
    "        \n",
    "    for filename in os.listdir():            \n",
    "        f = open(filename, 'r', encoding = 'ISO-8859-1')\n",
    "        html = f.read()\n",
    "        soup = BeautifulSoup(html, \"html.parser\")\n",
    "        \n",
    "        # the id of the item read from the filename\n",
    "        item_id = filename[:-4]\n",
    "        # append a dictionary for each item to the list and update the id for the item\n",
    "        ebay_items.append({'item_id': item_id})\n",
    "        # update whether the item is sponsored\n",
    "        if sponsored == True:\n",
    "            ebay_items[index].update({'sponsored': True})\n",
    "        else:\n",
    "            ebay_items[index].update({'sponsored': False})\n",
    "\n",
    "        try:\n",
    "            #### seller name ####\n",
    "            seller_name = soup.find('span', class_='mbg-nw').text\n",
    "            ebay_items[index].update({'seller_name': seller_name})\n",
    "\n",
    "            #### seller score ####\n",
    "            seller_score = soup.find('span', class_ = 'mbg-l').find('a').text\n",
    "            ebay_items[index].update({'seller_score': seller_score})\n",
    "\n",
    "            #### number of items sold ####\n",
    "            num_items_sold_object = soup.find('a', class_ = 'vi-txt-underline')\n",
    "            if num_items_sold_object == None:\n",
    "                num_items_sold = 0\n",
    "            else:\n",
    "                num_items_sold = num_items_sold_object.text[:num_items_sold_object.text.index(' ')].replace(',', '')\n",
    "            ebay_items[index].update({'num_items_sold': num_items_sold})\n",
    "\n",
    "            #### whether best offer option is available ####\n",
    "            best_offer_object = soup.find('div', class_ = 'vi-bbox-dspn u-flL lable boLable')\n",
    "            if best_offer_object == None:\n",
    "                best_offer_available = False\n",
    "            else:\n",
    "                best_offer_available = True\n",
    "            ebay_items[index].update({'best_offer_available': best_offer_available})\n",
    "\n",
    "            #### title ####\n",
    "            title = soup.find('h1', class_ = 'it-ttl').text[len('Details about  \\xa0'):]\n",
    "            ebay_items[index].update({'title': title})\n",
    "\n",
    "            #### whether returns are allowed ####\n",
    "            returns_text = soup.find('span', id = 'vi-ret-accrd-txt').text\n",
    "            if 'Seller does not accept returns' in returns_text:\n",
    "                returns_allowed = False\n",
    "            else:\n",
    "                returns_allowed = True\n",
    "            ebay_items[index].update({'returns_allowed': returns_allowed})\n",
    "\n",
    "            #### condition ####\n",
    "            condition = soup.find('div', id = 'vi-itm-cond').text\n",
    "            ebay_items[index].update({'condition': condition})\n",
    "\n",
    "            #### item price ####\n",
    "            item_price = soup.find('span', id = 'prcIsum').text\n",
    "            if item_price.startswith('US') == False:\n",
    "                item_price = soup.find('span', id = 'convbidPrice').text\n",
    "            if item_price.startswith('US') == False:\n",
    "                item_price = soup.find('span', id = 'convbinPrice').text\n",
    "\n",
    "            #### shipping cost ####\n",
    "            shipping_cost = soup.find('span', id = 'fshippingCost').contents[1].text\n",
    "            if shipping_cost.startswith('$') == False and shipping_cost != 'FREE':\n",
    "                shipping_cost = soup.find('span', id = 'convetedPriceId').text\n",
    "\n",
    "        # item price and shipping cost on different pages are in different formats\n",
    "        except:\n",
    "            try:\n",
    "                item_price = soup.find('span', class_ = 'cc-text-spans--BOLD').text\n",
    "                if item_price.startswith('US') == False:\n",
    "                    item_price = soup.find('span', id = 'convbidPrice').text\n",
    "                if item_price.startswith('US') == False:\n",
    "                    item_price = soup.find('span', id = 'convbinPrice').text\n",
    "                shipping_cost = soup.find('a', id = 'e3').text\n",
    "\n",
    "            except:\n",
    "                try:\n",
    "                    item_price = soup.find('span', {'itemprop': 'price'}).text\n",
    "                    if item_price.startswith('US') == False:\n",
    "                        item_price = soup.find('span', id = 'convbidPrice').text\n",
    "                    if item_price.startswith('US') == False:\n",
    "                        item_price = soup.find('span', id = 'convbinPrice').text\n",
    "                    shipping_cost = soup.find('strong', class_ = 'sh_gr_bld').text\n",
    "                except:\n",
    "                    try:\n",
    "                        item_price = soup.find('span', id = 'convbinPrice').text\n",
    "                        if soup.find('span', id = 'fShippingSvc').contents[1].text != None:\n",
    "                            shipping_cost = soup.find('span', id = 'fShippingSvc').contents[1].text\n",
    "                        else:\n",
    "                            shipping_cost = soup.find('span', id = 'fShippingSvc').text\n",
    "                    except:\n",
    "                        shipping_cost = None    \n",
    "        # after locating the item price, convert it into a clean format\n",
    "        price = re.search(price_pattern, item_price).group()[1:].replace(',','')\n",
    "\n",
    "        # clean the shipping costs\n",
    "        if shipping_cost != None:\n",
    "            if shipping_cost.startswith('$'):\n",
    "                shipping = shipping_cost.replace('$','')\n",
    "                shipping_computed = True\n",
    "            elif 'free' in shipping_cost.lower():\n",
    "                shipping = 0\n",
    "                shipping_computed = True\n",
    "            else:\n",
    "                shipping = None\n",
    "                shipping_computed = False\n",
    "        else:\n",
    "            shipping = None\n",
    "            shipping_computed = False\n",
    "\n",
    "        ebay_items[index].update({'item_price': price})\n",
    "        ebay_items[index].update({'shipping_cost': shipping})\n",
    "        ebay_items[index].update({'shipping_computed': shipping_computed})\n",
    "\n",
    "        f.close()\n",
    "        index +=1"
   ]
  },
  {
   "cell_type": "code",
   "execution_count": 687,
   "metadata": {},
   "outputs": [],
   "source": [
    "store_ebay_items(sponsored = True)"
   ]
  },
  {
   "cell_type": "code",
   "execution_count": 688,
   "metadata": {},
   "outputs": [],
   "source": [
    "store_ebay_items(sponsored = False)"
   ]
  },
  {
   "cell_type": "markdown",
   "metadata": {},
   "source": [
    "## Connect to and store all information above into a SQL database"
   ]
  },
  {
   "cell_type": "markdown",
   "metadata": {},
   "source": [
    "If an item misses ANY of the information in (d), you should insert that missing value as NULL into the table. Convert any price (item price and shipping price) into a \"dollar-cent\" format (e.g., convert 12.34 into 1234 and 12 into 1200. If an item does not include cents in the price, insert zeros.) and insert the price as INT into the table."
   ]
  },
  {
   "cell_type": "code",
   "execution_count": 631,
   "metadata": {},
   "outputs": [],
   "source": [
    "# connect to my mysql database\n",
    "mydb = mysql.connector.connect(host='localhost', user='root', connect_timeout=5)"
   ]
  },
  {
   "cell_type": "code",
   "execution_count": 632,
   "metadata": {},
   "outputs": [],
   "source": [
    "cursor = mydb.cursor()"
   ]
  },
  {
   "cell_type": "code",
   "execution_count": 633,
   "metadata": {},
   "outputs": [],
   "source": [
    "# create the database and table\n",
    "cursor.execute('CREATE DATABASE eBay')"
   ]
  },
  {
   "cell_type": "code",
   "execution_count": 692,
   "metadata": {},
   "outputs": [],
   "source": [
    "cursor.execute('USE eBay')\n",
    "cursor.execute('DROP TABLE IF EXISTS eBay_items')"
   ]
  },
  {
   "cell_type": "code",
   "execution_count": 693,
   "metadata": {},
   "outputs": [],
   "source": [
    "create_table_script = ('CREATE TABLE eBay_items ( '\n",
    "'item_id BIGINT, '\n",
    "'sponsored BIT, '\n",
    "'seller_name VARCHAR(255), '\n",
    "'seller_score INTEGER, '\n",
    "'num_items_sold INTEGER, '\n",
    "'best_offer_available BIT, '\n",
    "'title VARCHAR(255), '\n",
    "'returns_allowed BIT, '\n",
    "'item_condition VARCHAR(255), '\n",
    "'item_price INTEGER, '\n",
    "'shipping_cost INTEGER, '\n",
    "'shipping_computed BIT);')"
   ]
  },
  {
   "cell_type": "code",
   "execution_count": 694,
   "metadata": {},
   "outputs": [],
   "source": [
    "cursor.execute(create_table_script)"
   ]
  },
  {
   "cell_type": "code",
   "execution_count": 659,
   "metadata": {},
   "outputs": [],
   "source": [
    "insert_script = ('INSERT INTO eBay_items (item_id, sponsored, seller_name, seller_score,'\n",
    "                                            'num_items_sold, best_offer_available, title,' \n",
    "                                            'returns_allowed, item_condition, item_price, shipping_cost,'\n",
    "                                            'shipping_computed) '\n",
    "            'VALUES (%s, %s, %s, %s, %s, %s, %s, %s, %s, %s, %s, %s)')"
   ]
  },
  {
   "cell_type": "code",
   "execution_count": 698,
   "metadata": {},
   "outputs": [],
   "source": [
    "# insert each item into the table\n",
    "for elem in ebay_items:\n",
    "    # find and create all the corresponding variables\n",
    "    item_id = elem['item_id']\n",
    "    sponsored = 1 if elem['sponsored']==True else 0\n",
    "    seller_name = elem['seller_name']\n",
    "    seller_score = elem['seller_score']\n",
    "    num_items_sold = elem['num_items_sold']\n",
    "    best_offer_available = 1 if elem['best_offer_available']==True else 0\n",
    "    title = elem['title']\n",
    "    returns_allowed = 1 if elem['returns_allowed']==True else 0\n",
    "    item_condition = elem['condition']\n",
    "    item_price = int(float(elem['item_price'])*100)\n",
    "    shipping_cost = None if (elem['shipping_cost']==None) else int(float(elem['shipping_cost'])*100)\n",
    "    shipping_computed = 1 if elem['shipping_computed']==True else 0\n",
    "    \n",
    "    values = (item_id, sponsored, seller_name, seller_score, num_items_sold, best_offer_available, title,\n",
    "          returns_allowed, item_condition, item_price, shipping_cost, shipping_computed)\n",
    "    # insert each item into the table\n",
    "    cursor.execute(insert_script, values)\n",
    "    mydb.commit()"
   ]
  },
  {
   "cell_type": "markdown",
   "metadata": {},
   "source": [
    "## Some summay statistics of the items\n",
    "The mean, min, max, and sd for each column, grouped by \"sponsor/non-sponsor\" and \"condition\" (group by at the same time, not separately). For binary categorical columns, use 0-1 conversion. For e.g., for the \"returns allowed\" convert YES to 1 and NO to 0 and then calculate the stats. If it is NOT a numerical/binary categorical column, print to the screen the count of each category level."
   ]
  },
  {
   "cell_type": "code",
   "execution_count": 716,
   "metadata": {},
   "outputs": [],
   "source": [
    "# compile the query to find summary statistics\n",
    "summary_query = ('SELECT sponsored, item_condition, '\n",
    "'avg(seller_score), max(seller_score), min(seller_score), stddev(seller_score),'\n",
    "'avg(num_items_sold), max(num_items_sold), min(num_items_sold), stddev(num_items_sold),'\n",
    "'avg(item_price), max(item_price), min(item_price), stddev(item_price), '\n",
    "'avg(shipping_cost), max(shipping_cost), min(shipping_cost), stddev(shipping_cost),'\n",
    "'avg(best_offer_available), max(best_offer_available), min(best_offer_available), stddev(best_offer_available),'\n",
    "'avg(returns_allowed), max(returns_allowed), min(returns_allowed), stddev(returns_allowed),'\n",
    "'count(item_condition) '\n",
    "'FROM ebay_items '\n",
    "'GROUP BY sponsored, item_condition;')"
   ]
  },
  {
   "cell_type": "code",
   "execution_count": 718,
   "metadata": {},
   "outputs": [],
   "source": [
    "cursor.execute(summary_query)"
   ]
  },
  {
   "cell_type": "code",
   "execution_count": 719,
   "metadata": {},
   "outputs": [],
   "source": [
    "result = cursor.fetchall()"
   ]
  },
  {
   "cell_type": "code",
   "execution_count": 726,
   "metadata": {},
   "outputs": [],
   "source": [
    "# store the summary statistics into a table and convert into a pandas dataframe\n",
    "summary_table = []"
   ]
  },
  {
   "cell_type": "code",
   "execution_count": 727,
   "metadata": {},
   "outputs": [],
   "source": [
    "for row in result:\n",
    "    summary_table.append(row)"
   ]
  },
  {
   "cell_type": "code",
   "execution_count": 730,
   "metadata": {},
   "outputs": [],
   "source": [
    "# update the column names\n",
    "summary_df = pd.DataFrame(summary_table)\n",
    "summary_df.columns = ['sponsored', 'item_condition', 'avg(seller_score)', 'max(seller_score)', 'min(seller_score)', 'stddev(seller_score)',\n",
    "'avg(num_items_sold)', 'max(num_items_sold)', 'min(num_items_sold)', 'stddev(num_items_sold)',\n",
    "'avg(item_price)', 'max(item_price)', 'min(item_price)', 'stddev(item_price)',\n",
    "'avg(shipping_cost)', 'max(shipping_cost)', 'min(shipping_cost)', 'stddev(shipping_cost)',\n",
    "'avg(best_offer_available)', 'max(best_offer_available)', 'min(best_offer_available)', 'stddev(best_offer_available)',\n",
    "'avg(returns_allowed)', 'max(returns_allowed)', 'min(returns_allowed)', 'stddev(returns_allowed)',\n",
    "'count(item_condition)']"
   ]
  },
  {
   "cell_type": "code",
   "execution_count": 736,
   "metadata": {},
   "outputs": [],
   "source": [
    "# to be able to view all the columns\n",
    "pd.set_option('display.max_columns', 100)"
   ]
  },
  {
   "cell_type": "code",
   "execution_count": null,
   "metadata": {},
   "outputs": [],
   "source": [
    "# print out the summary statistics - output is hidden here to avoid any troubles\n",
    "round(summary_df.sort_values(by = ['sponsored', 'item_condition'], ascending = False),2)"
   ]
  },
  {
   "cell_type": "markdown",
   "metadata": {},
   "source": [
    "## How sponsored and non-sponsored items appear to be different"
   ]
  },
  {
   "cell_type": "markdown",
   "metadata": {},
   "source": [
    "- sponsored items tend to have a higher seller score for new items, and lower seller score for items in all other conditions.\n",
    "- sponsored items also have more items sold on average, especially for seller refurbished items.\n",
    "- on average, sponsored items have higher item prices for new, used, manufacturer refurbished items, and lower price for items in other conditions.\n",
    "- on average, more sponsored items provide the option of best offers and allow returns.\n",
    "- the best variable that could be predict if the item was sponsored or not could be best offer available and returns allowed. Also, seller score in conjunction with item condition would could be a predictor. High seller score for new items would indicate an item to be sponsored.\n"
   ]
  }
 ],
 "metadata": {
  "kernelspec": {
   "display_name": "Python 3",
   "language": "python",
   "name": "python3"
  },
  "language_info": {
   "codemirror_mode": {
    "name": "ipython",
    "version": 3
   },
   "file_extension": ".py",
   "mimetype": "text/x-python",
   "name": "python",
   "nbconvert_exporter": "python",
   "pygments_lexer": "ipython3",
   "version": "3.7.4"
  },
  "latex_envs": {
   "LaTeX_envs_menu_present": true,
   "autoclose": false,
   "autocomplete": true,
   "bibliofile": "biblio.bib",
   "cite_by": "apalike",
   "current_citInitial": 1,
   "eqLabelWithNumbers": true,
   "eqNumInitial": 1,
   "hotkeys": {
    "equation": "Ctrl-E",
    "itemize": "Ctrl-I"
   },
   "labels_anchors": false,
   "latex_user_defs": false,
   "report_style_numbering": false,
   "user_envs_cfg": false
  },
  "toc": {
   "base_numbering": 1,
   "nav_menu": {},
   "number_sections": false,
   "sideBar": true,
   "skip_h1_title": false,
   "title_cell": "Table of Contents",
   "title_sidebar": "Contents",
   "toc_cell": false,
   "toc_position": {},
   "toc_section_display": true,
   "toc_window_display": true
  },
  "varInspector": {
   "cols": {
    "lenName": 16,
    "lenType": 16,
    "lenVar": 40
   },
   "kernels_config": {
    "python": {
     "delete_cmd_postfix": "",
     "delete_cmd_prefix": "del ",
     "library": "var_list.py",
     "varRefreshCmd": "print(var_dic_list())"
    },
    "r": {
     "delete_cmd_postfix": ") ",
     "delete_cmd_prefix": "rm(",
     "library": "var_list.r",
     "varRefreshCmd": "cat(var_dic_list()) "
    }
   },
   "types_to_exclude": [
    "module",
    "function",
    "builtin_function_or_method",
    "instance",
    "_Feature"
   ],
   "window_display": false
  }
 },
 "nbformat": 4,
 "nbformat_minor": 2
}
